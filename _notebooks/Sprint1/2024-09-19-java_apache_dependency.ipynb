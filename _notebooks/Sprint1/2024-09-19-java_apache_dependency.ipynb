{
 "cells": [
  {
   "cell_type": "code",
   "execution_count": 1,
   "metadata": {
    "vscode": {
     "languageId": "java"
    }
   },
   "outputs": [
    {
     "name": "stdout",
     "output_type": "stream",
     "text": [
      "dlroW olleH\n"
     ]
    }
   ],
   "source": [
    "//DEPS org.apache.commons:commons-lang3:3.12.0\n",
    "\n",
    "import org.apache.commons.lang3.StringUtils;\n",
    "\n",
    "public class Main {\n",
    "    public static void main(String[] args) {\n",
    "        String example = \"Hello World\";\n",
    "        System.out.println(StringUtils.reverse(example));  // Output: \"dlroW olleH\"\n",
    "    }\n",
    "}\n",
    "\n",
    "Main.main(null);\n"
   ]
  }
 ],
 "metadata": {
  "kernelspec": {
   "display_name": "Java",
   "language": "java",
   "name": "java"
  },
  "language_info": {
   "codemirror_mode": "java",
   "file_extension": ".jshell",
   "mimetype": "text/x-java-source",
   "name": "Java",
   "pygments_lexer": "java",
   "version": "17.0.12+0"
  }
 },
 "nbformat": 4,
 "nbformat_minor": 2
}
