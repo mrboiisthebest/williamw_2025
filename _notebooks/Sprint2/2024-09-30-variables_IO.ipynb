{
 "cells": [
  {
   "cell_type": "raw",
   "metadata": {
    "vscode": {
     "languageId": "raw"
    }
   },
   "source": [
    "---\n",
    "comments: true\n",
    "layout: post\n",
    "title: JavaScript Variables, Input, Output\n",
    "description: An introduction to JavaScript variables, input, and output using the RPG game as an example.\n",
    "permalink: /csse/javascript/fundamentals/variables\n",
    "categories: [JavaScript Fundamentals]\n",
    "courses: { csse: {week: 6} }\n",
    "type: ccc\n",
    "---"
   ]
  },
  {
   "cell_type": "markdown",
   "metadata": {},
   "source": [
    "## Variables\n",
    "\n",
    "Variables are storage containers for data values used within a programming language. Variables can be useful when changing preferences, selecting a background, creating animations, and changing assets in game programming."
   ]
  },
  {
   "cell_type": "markdown",
   "metadata": {},
   "source": [
    "### Variable Inputs\n",
    "\n",
    "To obtain data from user and save into a JavaScript variable requires the use of HTML.  \n",
    "\n",
    "The `<input>` HTML element is used to create interactive controls for web-based forms in order to receive data from the user.\n",
    "\n",
    "- Geeks for Geeks Referece on [input tag](https://www.geeksforgeeks.org/html-input-tag/)\n",
    "- Remember in Jupyter Notebooks and in GitHub Pages we do not use `<head>` and `<body>` tags.  \n",
    "- Additionally, we prefer using SASS for `<style>` in GitHub Pages."
   ]
  },
  {
   "cell_type": "markdown",
   "metadata": {},
   "source": [
    "### Variable Outputs\n",
    "\n",
    "To output a variable in JavaScript it works in combination with HTML as well. To output the variable game_speed or any errors it requires  that outputs to be placed in the Document Object Model (DOM).\n",
    "\n",
    "Additionally, it is common practice in debugging a program to output to console.log.\n",
    "\n",
    "To view DOM and Developer Outputs\n",
    "- Open Help -> Toggle Developer Tools\n",
    "- Go to Console menu, you can clear console to view outputs from console comands in this cell\n",
    "- To see DOM go to Elements tab and use selector and click on output in this window."
   ]
  },
  {
   "cell_type": "code",
   "execution_count": 1,
   "metadata": {
    "vscode": {
     "languageId": "html"
    }
   },
   "outputs": [
    {
     "data": {
      "text/html": [
       "\n",
       "<!-- Input definitions -->\n",
       "<div>\n",
       "  <label for=\"speed\">Adjust Speed (1-5):</label>\n",
       "  <input type=\"number\" id=\"speed\" name=\"speed\" min=\"1\" max=\"5\" value=\"2\">\n",
       "  <button onclick=\"submitSpeed()\">Submit</button>\n",
       "</div>\n",
       "\n",
       "<!-- Document Object Model (DOM) output locations -->\n",
       "<div id=\"output\"></div>\n",
       "<div id=\"error\"></div>\n",
       "\n",
       "<script>\n",
       "  // Function to validate and output the game speed value\n",
       "  function submitSpeed() {\n",
       "    let gameSpeed = document.getElementById('speed').value;\n",
       "    \n",
       "    // Ensure the value is within the allowed range\n",
       "    if (gameSpeed < 1 || gameSpeed > 5) {\n",
       "      // Set/clear output messages when there is an error\n",
       "      document.getElementById('output').innerHTML = \"\";\n",
       "      // Output an error message to the console\n",
       "      console.error(\"Invalid game speed value:\", gameSpeed);\n",
       "      // Output an error message to the HTML page\n",
       "      document.getElementById('error').innerHTML = \"Invalid game speed value: \" + gameSpeed;\n",
       "    } else {\n",
       "      // Set/clear error messages when the value is valid\n",
       "      document.getElementById('error').innerHTML = \"\";\n",
       "      // Output the game speed value to the console\n",
       "      console.log(\"Game speed set to:\", gameSpeed);\n",
       "      // Output the game speed value to the HTML page\n",
       "      document.getElementById('output').innerHTML = \"Game speed set to: \" + gameSpeed;\n",
       "    }\n",
       "  }\n",
       "</script>\n"
      ],
      "text/plain": [
       "<IPython.core.display.HTML object>"
      ]
     },
     "metadata": {},
     "output_type": "display_data"
    }
   ],
   "source": [
    "%%html \n",
    "\n",
    "<!-- Input definitions -->\n",
    "<div>\n",
    "  <label for=\"speed\">Adjust Speed (1-5):</label>\n",
    "  <input type=\"number\" id=\"speed\" name=\"speed\" min=\"1\" max=\"5\" value=\"2\">\n",
    "  <button onclick=\"submitSpeed()\">Submit</button>\n",
    "</div>\n",
    "\n",
    "<!-- Document Object Model (DOM) output locations -->\n",
    "<div id=\"output\"></div>\n",
    "<div id=\"error\"></div>\n",
    "\n",
    "<script>\n",
    "  // Function to validate and output the game speed value\n",
    "  function submitSpeed() {\n",
    "    let gameSpeed = document.getElementById('speed').value;\n",
    "    \n",
    "    // Ensure the value is within the allowed range\n",
    "    if (gameSpeed < 1 || gameSpeed > 5) {\n",
    "      // Set/clear output messages when there is an error\n",
    "      document.getElementById('output').innerHTML = \"\";\n",
    "      // Output an error message to the console\n",
    "      console.error(\"Invalid game speed value:\", gameSpeed);\n",
    "      // Output an error message to the HTML page\n",
    "      document.getElementById('error').innerHTML = \"Invalid game speed value: \" + gameSpeed;\n",
    "    } else {\n",
    "      // Set/clear error messages when the value is valid\n",
    "      document.getElementById('error').innerHTML = \"\";\n",
    "      // Output the game speed value to the console\n",
    "      console.log(\"Game speed set to:\", gameSpeed);\n",
    "      // Output the game speed value to the HTML page\n",
    "      document.getElementById('output').innerHTML = \"Game speed set to: \" + gameSpeed;\n",
    "    }\n",
    "  }\n",
    "</script>"
   ]
  },
  {
   "cell_type": "markdown",
   "metadata": {},
   "source": [
    "### Variable Naming Conventions\n",
    "\n",
    "- **camelCase** In camel case, the first word is lowercase, and the first letter of the remaining words are uppercase: `gameSpeed`\n",
    "- **snake_case** In snake casse, the words in variables are all lowercase and are separated by a underbar: `game_speed`\n",
    "- **PascalCase** In PascalCase, the first letter in the word is capitalized: `GameSpeed`\n",
    "\n",
    "In JavaScript, there will be usage of all three types in the RPG project."
   ]
  },
  {
   "cell_type": "markdown",
   "metadata": {},
   "source": [
    "## Variables containing Variables (Reference Types)\n",
    "\n",
    "There are variables that contain other variables. These are called reference types.\n",
    "\n",
    "- **JSON Objects**: These variables contain key names and associated values (key-value pairs). The key is used for reference and the value contains the data.\n",
    "  - **Key**: This is similar to a variable name. The key describes the value and is followed by a colon.\n",
    "  - **Value**: The value is associated with the key.\n",
    "  - **Sample Definition**: `let gameAttribute = {\"Speed\": 3, \"Avatar\": \"Mario\"}`\n",
    "  - **Sample Reference**: `gameAttribute[\"Speed\"]`\n",
    "  - **Sample Output from Reference**: `3`\n",
    "\n",
    "- **JSON Arrays**: These variables contain a sequence of values.\n",
    "  - **Sample Definition**: `let scoreHistory = [50, 75, 66, 80, 100, 85]`\n",
    "  - **Sample Reference**: `scoreHistory[2]`\n",
    "  - **Sample Output from Reference**: `66`"
   ]
  },
  {
   "cell_type": "code",
   "execution_count": 8,
   "metadata": {
    "vscode": {
     "languageId": "javascript"
    }
   },
   "outputs": [
    {
     "data": {
      "application/javascript": "\n// Reference Type example\n// Open VSCode Help -> Toggle Developer Tools -> Console\n\n// JSON Object\nlet gameAttribute = {\n    \"Speed\": 3,\n    \"Avatar\": \"Mario\"\n};\n\n// Accessing JSON Object values\n// Accessing JSON Object values using dot notation\nconsole.log(\"Speed-Dot:\", gameAttribute.Speed); // Output: Speed: 3\nconsole.log(\"Avatar-Dot:\", gameAttribute.Avatar); // Output: Avatar: Mario\n\n// Accessing JSON Object values using bracket notation\nconsole.log(\"Speed-Bracket:\", gameAttribute[\"Speed\"]); // Output: Speed: 3\nconsole.log(\"Avatar-Bracket:\", gameAttribute[\"Avatar\"]); // Output: Avatar: Mario\n\n// JSON Array\nlet scoreHistory = [50, 75, 66, 80, 100, 85];\n\n// Accessing JSON Array values\nconsole.log(\"Score at index 2:\", scoreHistory[7]); // Output: Score at index 2: 66\n",
      "text/plain": [
       "<IPython.core.display.Javascript object>"
      ]
     },
     "metadata": {},
     "output_type": "display_data"
    }
   ],
   "source": [
    "%%js\n",
    "\n",
    "// Reference Type example\n",
    "// Open VSCode Help -> Toggle Developer Tools -> Console\n",
    "\n",
    "// JSON Object\n",
    "let gameAttribute = {\n",
    "    \"Speed\": 3,\n",
    "    \"Avatar\": \"Mario\"\n",
    "};\n",
    "\n",
    "// Accessing JSON Object values\n",
    "// Accessing JSON Object values using dot notation\n",
    "console.log(\"Speed-Dot:\", gameAttribute.Speed); // Output: Speed: 3\n",
    "console.log(\"Avatar-Dot:\", gameAttribute.Avatar); // Output: Avatar: Mario\n",
    "\n",
    "// Accessing JSON Object values using bracket notation\n",
    "console.log(\"Speed-Bracket:\", gameAttribute[\"Speed\"]); // Output: Speed: 3\n",
    "console.log(\"Avatar-Bracket:\", gameAttribute[\"Avatar\"]); // Output: Avatar: Mario\n",
    "\n",
    "// JSON Array\n",
    "let scoreHistory = [50, 75, 66, 80, 100, 85];\n",
    "\n",
    "// Accessing JSON Array values\n",
    "console.log(\"Score at index 2:\", scoreHistory[2]); // Output: Score at index 2: 66"
   ]
  },
  {
   "cell_type": "markdown",
   "metadata": {},
   "source": [
    "### Variable Naming Convention Hack\n",
    "\n",
    "Search up naming convention for JavaScript.  Conventions are important to easily recognize purpose of definitions.\n",
    "1. Usage of camelCase.  What is standard?\n",
    "    - A var or let variables in JavaScript should use camelCase.\n",
    "    - ChatGPT Explanation: camelCase is a common convention for naming variables and functions in JavaScript. It starts with a lowercase letter and capitalizes the first letter of each subsequent word (e.g., myVariableName)\n",
    "2. Usage of UPPER_CASE snake_case.  What is standard?\n",
    "    - A const variable should use SNAKE_CASE.\n",
    "    - ChatGPT Explanation: While not universally enforced, it is a common convention to use UPPER_CASE with underscores (SNAKE_CASE) for constants to indicate that their values should not change (e.g., SCALE_FACTOR).\n",
    "3. Usage of PascalCase.  What is standard?\n",
    "    - A class definitions in JavaScript follow PascalCase naming.\n",
    "    - ChatGPT Explanation: PascalCase is used for class names in JavaScript. It capitalizes the first letter of each word, including the first word (e.g., GameControl)."
   ]
  },
  {
   "cell_type": "markdown",
   "metadata": {},
   "source": [
    "### RPG Project Hack\n",
    "Identify naming convention and data type used in this code.  Which items would you change according to your research on naming conventions?  What are the data types?  Change names and provide comments to to describe data types and name convention changes.  \n",
    "\n",
    "1. Make a new code cell to make it easy to compare before and after.\n",
    "2. Figure out naming convention for Key-Values items.  Source and share your reference.\n",
    "\n",
    "```js\n",
    "import GameControl from '{{site.baseurl}}/assets/js/rpg/GameControl.js';\n",
    "\n",
    "// Background data\n",
    "const image_src = \"{{site.baseurl}}/images/rpg/water.png\";\n",
    "const image_data = {\n",
    "    pixels: {height: 580, width: 1038}\n",
    "};\n",
    "const image = {src: image_src, data: image_data};\n",
    "\n",
    "// Sprite data\n",
    "const sprite_src = \"{{site.baseurl}}/images/rpg/turtle.png\";\n",
    "const sprite_data = {\n",
    "    SCALE_FACTOR: 10,\n",
    "    STEP_FACTOR: 1000,\n",
    "    ANIMATION_RATE: 50,\n",
    "    pixels: {height: 280, width: 256},\n",
    "    orientation: {rows: 4, columns: 3 },\n",
    "    down: {row: 0, start: 0, columns: 3 },\n",
    "    left: {row: 1, start: 0, columns: 3 },\n",
    "    right: {row: 2, start: 0, columns: 3 },\n",
    "    up: {row: 3, start: 0, columns: 3 },\n",
    "};\n",
    "const sprite = {src: sprite_src, data: sprite_data};\n",
    "\n",
    "// Assets for game\n",
    "const assets = {image: image, sprite: sprite}\n",
    "\n",
    "// Start game engine\n",
    "GameControl.start(assets);\n",
    "```"
   ]
  },
  {
   "cell_type": "code",
   "execution_count": 4,
   "metadata": {
    "vscode": {
     "languageId": "javascript"
    }
   },
   "outputs": [
    {
     "data": {
      "application/javascript": "\n// Background data\nconst imageSrc = \"{{site.baseurl}}/images/rpg/water.png\";\nconst imageData = {\n    pixels: {height: 580, width: 1038}\n};\nconst image = {src: imageSrc, data: imageData};\n\n// Sprite data\nconst spriteSrc = \"{{site.baseurl}}/images/rpg/turtle.png\";\nconst spriteData = {\n    SCALE_FACTOR: 10,\n    STEP_FACTOR: 1000,\n    ANIMATION_RATE: 50,\n    pixels: {height: 280, width: 256},\n    orientation: {rows: 4, columns: 3 },\n    down: {row: 0, start: 0, columns: 3 },\n    left: {row: 1, start: 0, columns: 3 },\n    right: {row: 2, start: 0, columns: 3 },\n    up: {row: 3, start: 0, columns: 3 },\n};\nconst sprite = {src: spriteSrc, data: spriteData};\n\n// Assets for game\nconst assets = {image: image, sprite: sprite}\n\nconsole.log(\"Assets\", assets);\n",
      "text/plain": [
       "<IPython.core.display.Javascript object>"
      ]
     },
     "metadata": {},
     "output_type": "display_data"
    }
   ],
   "source": [
    "%%js\n",
    "\n",
    "// Background data\n",
    "const imageSrc = \"{{site.baseurl}}/images/rpg/water.png\";\n",
    "const imageData = {\n",
    "    pixels: {height: 580, width: 1038}\n",
    "};\n",
    "const image = {src: imageSrc, data: imageData};\n",
    "\n",
    "// Sprite data\n",
    "const spriteSrc = \"{{site.baseurl}}/images/rpg/turtle.png\"; // String: URL for the sprite image\n",
    "const spriteData = {\n",
    "    SCALE_FACTOR: 10, // Number: Determines the size of the sprite relative to the canvas. A smaller number makes the sprite larger.\n",
    "    STEP_FACTOR: 1000, // Number: Divides the canvas into 1000 steps for smooth and consistent movement of the sprite.\n",
    "    ANIMATION_RATE: 50, // Number: Controls how fast the sprite's animation plays. A smaller number makes the animation faster.    pixels: {height: 280, width: 256}, // Object: Dimensions of the sprite\n",
    "    orientation: {rows: 4, columns: 3}, // Object: Orientation of the sprite\n",
    "    down: {row: 0, start: 0, columns: 3}, // Object: Data for the down direction\n",
    "    left: {row: 1, start: 0, columns: 3}, // Object: Data for the left direction\n",
    "    right: {row: 2, start: 0, columns: 3}, // Object: Data for the right direction\n",
    "    up: {row: 3, start: 0, columns: 3}, // Object: Data for the up direction\n",
    "};\n",
    "const sprite = {src: spriteSrc, data: spriteData}; // Object: Sprite data\n",
    "\n",
    "// Assets for game\n",
    "const assets = {image: image, sprite: sprite}; // Object: Game assets\n",
    "\n",
    "console.log(\"Game Assets\", assets);\n"
   ]
  },
  {
   "cell_type": "markdown",
   "metadata": {},
   "source": [
    "### Code Block Hack\n",
    "\n",
    "Make a new code block for some game elements that you have in your \"Ideation\"."
   ]
  }
 ],
 "metadata": {
  "kernelspec": {
   "display_name": "venv",
   "language": "python",
   "name": "python3"
  },
  "language_info": {
   "codemirror_mode": {
    "name": "ipython",
    "version": 3
   },
   "file_extension": ".py",
   "mimetype": "text/x-python",
   "name": "python",
   "nbconvert_exporter": "python",
   "pygments_lexer": "ipython3",
   "version": "3.12.5"
  }
 },
 "nbformat": 4,
 "nbformat_minor": 2
}
