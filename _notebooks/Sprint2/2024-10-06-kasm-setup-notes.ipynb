{
 "cells": [
  {
   "cell_type": "raw",
   "metadata": {
    "vscode": {
     "languageId": "raw"
    }
   },
   "source": [
    "---\n",
    "comments: true\n",
    "layout: post\n",
    "title: Kasm Setup Notes\n",
    "description: Quick review for Kasm Setup\n",
    "permalink: /kasm/quick/setup\n",
    "categories: [Ubuntu Fundamentals]\n",
    "courses: { csse: {week: 7} }\n",
    "type: ccc\n",
    "---"
   ]
  },
  {
   "cell_type": "markdown",
   "metadata": {},
   "source": [
    "## KASM Workspace Prep\n",
    "Any time you start work on a new KASM workspace perform these steps\n",
    "\n",
    "1. **Open a Linux-supported Terminal**\n",
    "\n",
    "2. **Setup personal GitHub variables:** Change `youremail@gmail.com` and `yourGHID` to match your credentials. This is required prior to syncing code to GitHub.\n",
    "\n",
    "    ```bash\n",
    "    git config --global user.email jmort1021@gmail.com\n",
    "    git config --global user.name jm1021\n",
    "    ```\n",
    "\n",
    "3. **Move to your home directory:**\n",
    "\n",
    "    ```bash\n",
    "    cd\n",
    "    ```\n",
    "\n",
    "4. **Setup a directory and clone your projects:**\n",
    "\n",
    "    ```bash\n",
    "    mkdir nighthawk \n",
    "    cd nighthawk \n",
    "    git clone https://github.com/nighthawkcoders/portfolio_2025.git\n",
    "    ```\n",
    "\n",
    "5. **Tool preparation for GitHub Pages**\n",
    "    ```bash\n",
    "    cd ~/nighthawk/portfolio_2025/scripts\n",
    "    ./activate.sh\n",
    "    ```\n",
    "\n",
    "6. **VSCode preparation**\n",
    "Launch VSCode from the desktop and install or adjust install on the following extensions.  Here is a [visual of extension](https://github.com/jm1021/john_2025/issues/6)\n",
    "    - **Python**. Required for Python.  Be sure to upgrade to pre-release after install.\n",
    "    - **Jupyter** Required for Jupyter Notebooks. Be sure to upgrade to pre-relase after install.\n",
    "    - **GitLens** Required for easy GitHub operations.\n",
    "\n",
    "7. **Required**\n",
    "Close everything.\n",
    "    - **Close any terminals open** The environment of terminal will not activate until a new terminal is opened.\n",
    "    - **Close VSCode** It is always best to close a tool when you activate new features.\n"
   ]
  },
  {
   "cell_type": "markdown",
   "metadata": {},
   "source": [
    "## Project Preparation\n",
    "Any time you start work on a new project perform these steps.  Change `https://github.com/nighthawkcoders/john_2025.git` to match your repo.\n",
    "\n",
    "1. **Clone your projects:**\n",
    "\n",
    "    ```bash\n",
    "    cd nighthawk \n",
    "    git clone https://github.com/jm1021/john_2025.git\n",
    "    ```\n",
    "\n",
    "2. **Tool preparation for GitHub Pages**\n",
    "    ```bash\n",
    "    cd ~/nighthawk/john_2025\n",
    "    ./scripts/venv.sh\n",
    "    ```\n",
    "\n",
    "3. **Start your project specific virtual environment with bundle requirements**\n",
    "    ```bash\n",
    "    source venv/bin/activate\n",
    "    bundle install\n",
    "    ```\n",
    "\n",
    "4. **Load VSCode**\n",
    "    ```bash\n",
    "    code .\n",
    "    ```\n",
    "\n",
    "5. **Verify the following**\n",
    "After installation it is alway best to do some testing and checks.  It is likely you will need to create a keyring and authenticate with GitHub during this process.\n",
    "- Open Terminal in VSCode, verify venv is present.  If not, make sure you have pre-release of Python Extension.\n",
    "- Perform `make` in terminal and verify and run server.  If it delays or fails, make sure you have venv in terminal and run have run `bundle install`\n",
    "- Open an Jupyter Notebook, set a kernel, verify by running a code cell.  If you can't set a kernel be sure you have pre-release verion of Jupyter Extension.\n",
    "- Make a commit to GitHub.  If you have failures it could be related to GitHub autentication, `git config` environment variables, or kingring password."
   ]
  }
 ],
 "metadata": {
  "language_info": {
   "name": "python"
  }
 },
 "nbformat": 4,
 "nbformat_minor": 2
}
